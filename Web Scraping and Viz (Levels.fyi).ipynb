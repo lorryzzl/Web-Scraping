{
 "cells": [
  {
   "cell_type": "code",
   "execution_count": 183,
   "id": "881aff3b",
   "metadata": {},
   "outputs": [],
   "source": [
    "import requests\n",
    "from bs4 import BeautifulSoup"
   ]
  },
  {
   "cell_type": "code",
   "execution_count": 184,
   "id": "6d6d0519",
   "metadata": {},
   "outputs": [
    {
     "name": "stdout",
     "output_type": "stream",
     "text": [
      "{'Product Manager': '$168K', 'Software Engineer': '$191K', 'Technical Program Manager': '$166K', 'Hardware Engineer': '$200K', 'Information Technologist': '$164K', 'Marketing': '$141K', 'Marketing Operations': '$153K', 'Product Designer': '$171K', 'Program Manager': '$157K', 'Sales': '$147K', 'Software Engineering Manager': '$357K', 'Solution Architect': '$180K', 'Accountant': '$137K', 'Data Scientist': '$158K', 'Human Resources': '$125K', 'Mechanical Engineer': '$179K', 'Business Analyst': '$142K', 'Management Consultant': '$199K', 'Recruiter': '$141K', 'Business Development': '$253K', 'Financial Analyst': '$191K', 'Project Manager': '$222K', 'Technical Writer': '$215K'}\n"
     ]
    }
   ],
   "source": [
    "url = \"https://www.levels.fyi/companies/google/salaries\"\n",
    "headers = {\"User-Agent\": \"Mozilla/5.0 (Windows NT 10.0; Win64; x64) AppleWebKit/537.36 (KHTML, like Gecko) Chrome/103.0.5060.134 Safari/537.36 Edg/103.0.1264.77\"}\n",
    "page = requests.get(url, headers=headers)\n",
    "doc = BeautifulSoup(page.content, \"html.parser\")\n",
    "salary_dic = {}\n",
    "job_list = doc.find_all(class_=\"MuiGrid-root MuiGrid-item MuiGrid-grid-xs-12 css-1yfttyz\")\n",
    "for i in job_list:\n",
    "    job_title_item = i.find(class_=\"MuiTypography-root MuiTypography-h6 css-a8x665\")\n",
    "    job_title = list(job_title_item.children)[0]\n",
    "    salary_item = i.find(class_=\"MuiTypography-root MuiTypography-caption css-1gosaog\")\n",
    "    salary = salary_item.strong.string\n",
    "    salary_dic[job_title] = salary\n",
    "print(salary_dic)"
   ]
  },
  {
   "cell_type": "code",
   "execution_count": 185,
   "id": "41e42f67",
   "metadata": {},
   "outputs": [
    {
     "data": {
      "text/html": [
       "<div>\n",
       "<style scoped>\n",
       "    .dataframe tbody tr th:only-of-type {\n",
       "        vertical-align: middle;\n",
       "    }\n",
       "\n",
       "    .dataframe tbody tr th {\n",
       "        vertical-align: top;\n",
       "    }\n",
       "\n",
       "    .dataframe thead th {\n",
       "        text-align: right;\n",
       "    }\n",
       "</style>\n",
       "<table border=\"1\" class=\"dataframe\">\n",
       "  <thead>\n",
       "    <tr style=\"text-align: right;\">\n",
       "      <th></th>\n",
       "      <th>Product Manager</th>\n",
       "      <th>Software Engineer</th>\n",
       "      <th>Technical Program Manager</th>\n",
       "      <th>Hardware Engineer</th>\n",
       "      <th>Information Technologist</th>\n",
       "      <th>Marketing</th>\n",
       "      <th>Marketing Operations</th>\n",
       "      <th>Product Designer</th>\n",
       "      <th>Program Manager</th>\n",
       "      <th>Sales</th>\n",
       "      <th>...</th>\n",
       "      <th>Data Scientist</th>\n",
       "      <th>Human Resources</th>\n",
       "      <th>Mechanical Engineer</th>\n",
       "      <th>Business Analyst</th>\n",
       "      <th>Management Consultant</th>\n",
       "      <th>Recruiter</th>\n",
       "      <th>Business Development</th>\n",
       "      <th>Financial Analyst</th>\n",
       "      <th>Project Manager</th>\n",
       "      <th>Technical Writer</th>\n",
       "    </tr>\n",
       "  </thead>\n",
       "  <tbody>\n",
       "    <tr>\n",
       "      <th>google</th>\n",
       "      <td>$168K</td>\n",
       "      <td>$191K</td>\n",
       "      <td>$166K</td>\n",
       "      <td>$200K</td>\n",
       "      <td>$164K</td>\n",
       "      <td>$141K</td>\n",
       "      <td>$153K</td>\n",
       "      <td>$171K</td>\n",
       "      <td>$157K</td>\n",
       "      <td>$147K</td>\n",
       "      <td>...</td>\n",
       "      <td>$158K</td>\n",
       "      <td>$125K</td>\n",
       "      <td>$179K</td>\n",
       "      <td>$142K</td>\n",
       "      <td>$199K</td>\n",
       "      <td>$141K</td>\n",
       "      <td>$253K</td>\n",
       "      <td>$191K</td>\n",
       "      <td>$222K</td>\n",
       "      <td>$215K</td>\n",
       "    </tr>\n",
       "  </tbody>\n",
       "</table>\n",
       "<p>1 rows × 23 columns</p>\n",
       "</div>"
      ],
      "text/plain": [
       "       Product Manager Software Engineer Technical Program Manager  \\\n",
       "google           $168K             $191K                     $166K   \n",
       "\n",
       "       Hardware Engineer Information Technologist Marketing  \\\n",
       "google             $200K                    $164K     $141K   \n",
       "\n",
       "       Marketing Operations Product Designer Program Manager  Sales  ...  \\\n",
       "google                $153K            $171K           $157K  $147K  ...   \n",
       "\n",
       "       Data Scientist Human Resources Mechanical Engineer Business Analyst  \\\n",
       "google          $158K           $125K               $179K            $142K   \n",
       "\n",
       "       Management Consultant Recruiter Business Development Financial Analyst  \\\n",
       "google                 $199K     $141K                $253K             $191K   \n",
       "\n",
       "       Project Manager Technical Writer  \n",
       "google           $222K            $215K  \n",
       "\n",
       "[1 rows x 23 columns]"
      ]
     },
     "execution_count": 185,
     "metadata": {},
     "output_type": "execute_result"
    }
   ],
   "source": [
    "import pandas as pd\n",
    "df1 = pd.DataFrame.from_dict(salary_dic, orient='index')\n",
    "df1 = df1.T\n",
    "df1 = df1.rename(index={0: 'google'})\n",
    "df1.head()"
   ]
  },
  {
   "cell_type": "code",
   "execution_count": 186,
   "id": "b943cc9c",
   "metadata": {},
   "outputs": [
    {
     "name": "stdout",
     "output_type": "stream",
     "text": [
      "{'Hardware Engineer': '$164K', 'Software Engineer': '$163K', 'Mechanical Engineer': '$150K', 'Product Manager': '$150K', 'Technical Program Manager': '$172K', 'Business Analyst': '$126K', 'Data Scientist': '$210K', 'Product Designer': '$189K', 'Software Engineering Manager': '$355K', 'Marketing': '$162K', 'Program Manager': '$244K', 'Recruiter': '$118K', 'Accountant': '$130K', 'Financial Analyst': '$138K', 'Human Resources': '$250K', 'Information Technologist': '$213K', 'Project Manager': '$233K', 'Sales': '$56K'}\n"
     ]
    }
   ],
   "source": [
    "url = \"https://www.levels.fyi/companies/apple/salaries\"\n",
    "headers = {\"User-Agent\": \"Mozilla/5.0 (Windows NT 10.0; Win64; x64) AppleWebKit/537.36 (KHTML, like Gecko) Chrome/103.0.5060.134 Safari/537.36 Edg/103.0.1264.77\"}\n",
    "page = requests.get(url, headers=headers)\n",
    "doc = BeautifulSoup(page.content, \"html.parser\")\n",
    "salary_dic = {}\n",
    "job_list = doc.find_all(class_=\"MuiGrid-root MuiGrid-item MuiGrid-grid-xs-12 css-1yfttyz\")\n",
    "for i in job_list:\n",
    "    job_title_item = i.find(class_=\"MuiTypography-root MuiTypography-h6 css-a8x665\")\n",
    "    job_title = list(job_title_item.children)[0]\n",
    "    salary_item = i.find(class_=\"MuiTypography-root MuiTypography-caption css-1gosaog\")\n",
    "    salary = salary_item.strong.string\n",
    "    salary_dic[job_title] = salary\n",
    "print(salary_dic)"
   ]
  },
  {
   "cell_type": "code",
   "execution_count": 187,
   "id": "a1abe241",
   "metadata": {
    "scrolled": true
   },
   "outputs": [
    {
     "data": {
      "text/html": [
       "<div>\n",
       "<style scoped>\n",
       "    .dataframe tbody tr th:only-of-type {\n",
       "        vertical-align: middle;\n",
       "    }\n",
       "\n",
       "    .dataframe tbody tr th {\n",
       "        vertical-align: top;\n",
       "    }\n",
       "\n",
       "    .dataframe thead th {\n",
       "        text-align: right;\n",
       "    }\n",
       "</style>\n",
       "<table border=\"1\" class=\"dataframe\">\n",
       "  <thead>\n",
       "    <tr style=\"text-align: right;\">\n",
       "      <th></th>\n",
       "      <th>Hardware Engineer</th>\n",
       "      <th>Software Engineer</th>\n",
       "      <th>Mechanical Engineer</th>\n",
       "      <th>Product Manager</th>\n",
       "      <th>Technical Program Manager</th>\n",
       "      <th>Business Analyst</th>\n",
       "      <th>Data Scientist</th>\n",
       "      <th>Product Designer</th>\n",
       "      <th>Software Engineering Manager</th>\n",
       "      <th>Marketing</th>\n",
       "      <th>Program Manager</th>\n",
       "      <th>Recruiter</th>\n",
       "      <th>Accountant</th>\n",
       "      <th>Financial Analyst</th>\n",
       "      <th>Human Resources</th>\n",
       "      <th>Information Technologist</th>\n",
       "      <th>Project Manager</th>\n",
       "      <th>Sales</th>\n",
       "    </tr>\n",
       "  </thead>\n",
       "  <tbody>\n",
       "    <tr>\n",
       "      <th>apple</th>\n",
       "      <td>$164K</td>\n",
       "      <td>$163K</td>\n",
       "      <td>$150K</td>\n",
       "      <td>$150K</td>\n",
       "      <td>$172K</td>\n",
       "      <td>$126K</td>\n",
       "      <td>$210K</td>\n",
       "      <td>$189K</td>\n",
       "      <td>$355K</td>\n",
       "      <td>$162K</td>\n",
       "      <td>$244K</td>\n",
       "      <td>$118K</td>\n",
       "      <td>$130K</td>\n",
       "      <td>$138K</td>\n",
       "      <td>$250K</td>\n",
       "      <td>$213K</td>\n",
       "      <td>$233K</td>\n",
       "      <td>$56K</td>\n",
       "    </tr>\n",
       "  </tbody>\n",
       "</table>\n",
       "</div>"
      ],
      "text/plain": [
       "      Hardware Engineer Software Engineer Mechanical Engineer Product Manager  \\\n",
       "apple             $164K             $163K               $150K           $150K   \n",
       "\n",
       "      Technical Program Manager Business Analyst Data Scientist  \\\n",
       "apple                     $172K            $126K          $210K   \n",
       "\n",
       "      Product Designer Software Engineering Manager Marketing Program Manager  \\\n",
       "apple            $189K                        $355K     $162K           $244K   \n",
       "\n",
       "      Recruiter Accountant Financial Analyst Human Resources  \\\n",
       "apple     $118K      $130K             $138K           $250K   \n",
       "\n",
       "      Information Technologist Project Manager Sales  \n",
       "apple                    $213K           $233K  $56K  "
      ]
     },
     "execution_count": 187,
     "metadata": {},
     "output_type": "execute_result"
    }
   ],
   "source": [
    "df2 = pd.DataFrame.from_dict(salary_dic, orient='index')\n",
    "df2 = df2.T\n",
    "df2 = df2.rename(index={0: 'apple'})\n",
    "df2.head()"
   ]
  },
  {
   "cell_type": "code",
   "execution_count": 188,
   "id": "668ae924",
   "metadata": {},
   "outputs": [
    {
     "name": "stdout",
     "output_type": "stream",
     "text": [
      "{'Software Engineer': '$168K', 'Accountant': '$73K', 'Business Analyst': '$98K', 'Data Scientist': '$180K', 'Financial Analyst': '$87K', 'Hardware Engineer': '$151K', 'Human Resources': '$79K', 'Information Technologist': '$119K', 'Marketing': '$97K', 'Product Designer': '$172K', 'Product Manager': '$173K', 'Program Manager': '$94K', 'Sales': '$133K', 'Software Engineering Manager': '$285K', 'Solution Architect': '$145K', 'Technical Program Manager': '$134K', 'Applied Scientist': '$221K', 'Business Development': '$210K', 'Management Consultant': '$160K', 'Marketing Operations': '$94K', 'Mechanical Engineer': '$148K', 'Recruiter': '$93K', 'Finance': '$191K', 'Operations': '$73K', 'Project Manager': '$129K', 'Technical Account Manager': '$180K', 'Customer Service': '$105K', 'Data Science Manager': '$398K', 'Legal': '$308K', 'Security Analyst': '$261K', 'Technical Writer': '$151K'}\n"
     ]
    }
   ],
   "source": [
    "url = \"https://www.levels.fyi/companies/amazon/salaries\"\n",
    "headers = {\"User-Agent\": \"Mozilla/5.0 (Windows NT 10.0; Win64; x64) AppleWebKit/537.36 (KHTML, like Gecko) Chrome/103.0.5060.134 Safari/537.36 Edg/103.0.1264.77\"}\n",
    "page = requests.get(url, headers=headers)\n",
    "doc = BeautifulSoup(page.content, \"html.parser\")\n",
    "salary_dic = {}\n",
    "job_list = doc.find_all(class_=\"MuiGrid-root MuiGrid-item MuiGrid-grid-xs-12 css-1yfttyz\")\n",
    "for i in job_list:\n",
    "    job_title_item = i.find(class_=\"MuiTypography-root MuiTypography-h6 css-a8x665\")\n",
    "    job_title = list(job_title_item.children)[0]\n",
    "    salary_item = i.find(class_=\"MuiTypography-root MuiTypography-caption css-1gosaog\")\n",
    "    salary = salary_item.strong.string\n",
    "    salary_dic[job_title] = salary\n",
    "print(salary_dic)"
   ]
  },
  {
   "cell_type": "code",
   "execution_count": 189,
   "id": "4273ce5f",
   "metadata": {},
   "outputs": [
    {
     "data": {
      "text/html": [
       "<div>\n",
       "<style scoped>\n",
       "    .dataframe tbody tr th:only-of-type {\n",
       "        vertical-align: middle;\n",
       "    }\n",
       "\n",
       "    .dataframe tbody tr th {\n",
       "        vertical-align: top;\n",
       "    }\n",
       "\n",
       "    .dataframe thead th {\n",
       "        text-align: right;\n",
       "    }\n",
       "</style>\n",
       "<table border=\"1\" class=\"dataframe\">\n",
       "  <thead>\n",
       "    <tr style=\"text-align: right;\">\n",
       "      <th></th>\n",
       "      <th>Software Engineer</th>\n",
       "      <th>Accountant</th>\n",
       "      <th>Business Analyst</th>\n",
       "      <th>Data Scientist</th>\n",
       "      <th>Financial Analyst</th>\n",
       "      <th>Hardware Engineer</th>\n",
       "      <th>Human Resources</th>\n",
       "      <th>Information Technologist</th>\n",
       "      <th>Marketing</th>\n",
       "      <th>Product Designer</th>\n",
       "      <th>...</th>\n",
       "      <th>Recruiter</th>\n",
       "      <th>Finance</th>\n",
       "      <th>Operations</th>\n",
       "      <th>Project Manager</th>\n",
       "      <th>Technical Account Manager</th>\n",
       "      <th>Customer Service</th>\n",
       "      <th>Data Science Manager</th>\n",
       "      <th>Legal</th>\n",
       "      <th>Security Analyst</th>\n",
       "      <th>Technical Writer</th>\n",
       "    </tr>\n",
       "  </thead>\n",
       "  <tbody>\n",
       "    <tr>\n",
       "      <th>amazon</th>\n",
       "      <td>$168K</td>\n",
       "      <td>$73K</td>\n",
       "      <td>$98K</td>\n",
       "      <td>$180K</td>\n",
       "      <td>$87K</td>\n",
       "      <td>$151K</td>\n",
       "      <td>$79K</td>\n",
       "      <td>$119K</td>\n",
       "      <td>$97K</td>\n",
       "      <td>$172K</td>\n",
       "      <td>...</td>\n",
       "      <td>$93K</td>\n",
       "      <td>$191K</td>\n",
       "      <td>$73K</td>\n",
       "      <td>$129K</td>\n",
       "      <td>$180K</td>\n",
       "      <td>$105K</td>\n",
       "      <td>$398K</td>\n",
       "      <td>$308K</td>\n",
       "      <td>$261K</td>\n",
       "      <td>$151K</td>\n",
       "    </tr>\n",
       "  </tbody>\n",
       "</table>\n",
       "<p>1 rows × 31 columns</p>\n",
       "</div>"
      ],
      "text/plain": [
       "       Software Engineer Accountant Business Analyst Data Scientist  \\\n",
       "amazon             $168K       $73K             $98K          $180K   \n",
       "\n",
       "       Financial Analyst Hardware Engineer Human Resources  \\\n",
       "amazon              $87K             $151K            $79K   \n",
       "\n",
       "       Information Technologist Marketing Product Designer  ... Recruiter  \\\n",
       "amazon                    $119K      $97K            $172K  ...      $93K   \n",
       "\n",
       "       Finance Operations Project Manager Technical Account Manager  \\\n",
       "amazon   $191K       $73K           $129K                     $180K   \n",
       "\n",
       "       Customer Service Data Science Manager  Legal Security Analyst  \\\n",
       "amazon            $105K                $398K  $308K            $261K   \n",
       "\n",
       "       Technical Writer  \n",
       "amazon            $151K  \n",
       "\n",
       "[1 rows x 31 columns]"
      ]
     },
     "execution_count": 189,
     "metadata": {},
     "output_type": "execute_result"
    }
   ],
   "source": [
    "df3 = pd.DataFrame.from_dict(salary_dic, orient='index')\n",
    "df3 = df3.T\n",
    "df3 = df3.rename(index={0: 'amazon'})\n",
    "df3.head()"
   ]
  },
  {
   "cell_type": "code",
   "execution_count": 190,
   "id": "a700be00",
   "metadata": {},
   "outputs": [
    {
     "name": "stdout",
     "output_type": "stream",
     "text": [
      "{'Software Engineer': '$159K', 'Product Manager': '$164K', 'Hardware Engineer': '$150K', 'Sales': '$101K', 'Technical Program Manager': '$159K', 'Data Scientist': '$163K', 'Marketing': '$102K', 'Product Designer': '$150K', 'Software Engineering Manager': '$233K', 'Solution Architect': '$157K', 'Business Analyst': '$129K', 'Marketing Operations': '$142K', 'Mechanical Engineer': '$180K', 'Program Manager': '$152K', 'Recruiter': '$106K', 'Information Technologist': '$141K', 'Accountant': '$138K', 'Business Development': '$203K', 'Human Resources': '$193K', 'Management Consultant': '$207K', 'Project Manager': '$167K', 'Customer Service': '$116K', 'Data Science Manager': '$351K'}\n"
     ]
    }
   ],
   "source": [
    "url = \"https://www.levels.fyi/companies/microsoft/salaries\"\n",
    "headers = {\"User-Agent\": \"Mozilla/5.0 (Windows NT 10.0; Win64; x64) AppleWebKit/537.36 (KHTML, like Gecko) Chrome/103.0.5060.134 Safari/537.36 Edg/103.0.1264.77\"}\n",
    "page = requests.get(url, headers=headers)\n",
    "doc = BeautifulSoup(page.content, \"html.parser\")\n",
    "salary_dic = {}\n",
    "job_list = doc.find_all(class_=\"MuiGrid-root MuiGrid-item MuiGrid-grid-xs-12 css-1yfttyz\")\n",
    "for i in job_list:\n",
    "    job_title_item = i.find(class_=\"MuiTypography-root MuiTypography-h6 css-a8x665\")\n",
    "    job_title = list(job_title_item.children)[0]\n",
    "    salary_item = i.find(class_=\"MuiTypography-root MuiTypography-caption css-1gosaog\")\n",
    "    salary = salary_item.strong.string\n",
    "    salary_dic[job_title] = salary\n",
    "print(salary_dic)"
   ]
  },
  {
   "cell_type": "code",
   "execution_count": 191,
   "id": "5824d729",
   "metadata": {},
   "outputs": [
    {
     "data": {
      "text/html": [
       "<div>\n",
       "<style scoped>\n",
       "    .dataframe tbody tr th:only-of-type {\n",
       "        vertical-align: middle;\n",
       "    }\n",
       "\n",
       "    .dataframe tbody tr th {\n",
       "        vertical-align: top;\n",
       "    }\n",
       "\n",
       "    .dataframe thead th {\n",
       "        text-align: right;\n",
       "    }\n",
       "</style>\n",
       "<table border=\"1\" class=\"dataframe\">\n",
       "  <thead>\n",
       "    <tr style=\"text-align: right;\">\n",
       "      <th></th>\n",
       "      <th>Software Engineer</th>\n",
       "      <th>Product Manager</th>\n",
       "      <th>Hardware Engineer</th>\n",
       "      <th>Sales</th>\n",
       "      <th>Technical Program Manager</th>\n",
       "      <th>Data Scientist</th>\n",
       "      <th>Marketing</th>\n",
       "      <th>Product Designer</th>\n",
       "      <th>Software Engineering Manager</th>\n",
       "      <th>Solution Architect</th>\n",
       "      <th>...</th>\n",
       "      <th>Program Manager</th>\n",
       "      <th>Recruiter</th>\n",
       "      <th>Information Technologist</th>\n",
       "      <th>Accountant</th>\n",
       "      <th>Business Development</th>\n",
       "      <th>Human Resources</th>\n",
       "      <th>Management Consultant</th>\n",
       "      <th>Project Manager</th>\n",
       "      <th>Customer Service</th>\n",
       "      <th>Data Science Manager</th>\n",
       "    </tr>\n",
       "  </thead>\n",
       "  <tbody>\n",
       "    <tr>\n",
       "      <th>amazon</th>\n",
       "      <td>$159K</td>\n",
       "      <td>$164K</td>\n",
       "      <td>$150K</td>\n",
       "      <td>$101K</td>\n",
       "      <td>$159K</td>\n",
       "      <td>$163K</td>\n",
       "      <td>$102K</td>\n",
       "      <td>$150K</td>\n",
       "      <td>$233K</td>\n",
       "      <td>$157K</td>\n",
       "      <td>...</td>\n",
       "      <td>$152K</td>\n",
       "      <td>$106K</td>\n",
       "      <td>$141K</td>\n",
       "      <td>$138K</td>\n",
       "      <td>$203K</td>\n",
       "      <td>$193K</td>\n",
       "      <td>$207K</td>\n",
       "      <td>$167K</td>\n",
       "      <td>$116K</td>\n",
       "      <td>$351K</td>\n",
       "    </tr>\n",
       "  </tbody>\n",
       "</table>\n",
       "<p>1 rows × 23 columns</p>\n",
       "</div>"
      ],
      "text/plain": [
       "       Software Engineer Product Manager Hardware Engineer  Sales  \\\n",
       "amazon             $159K           $164K             $150K  $101K   \n",
       "\n",
       "       Technical Program Manager Data Scientist Marketing Product Designer  \\\n",
       "amazon                     $159K          $163K     $102K            $150K   \n",
       "\n",
       "       Software Engineering Manager Solution Architect  ... Program Manager  \\\n",
       "amazon                        $233K              $157K  ...           $152K   \n",
       "\n",
       "       Recruiter Information Technologist Accountant Business Development  \\\n",
       "amazon     $106K                    $141K      $138K                $203K   \n",
       "\n",
       "       Human Resources Management Consultant Project Manager Customer Service  \\\n",
       "amazon           $193K                 $207K           $167K            $116K   \n",
       "\n",
       "       Data Science Manager  \n",
       "amazon                $351K  \n",
       "\n",
       "[1 rows x 23 columns]"
      ]
     },
     "execution_count": 191,
     "metadata": {},
     "output_type": "execute_result"
    }
   ],
   "source": [
    "df4 = pd.DataFrame.from_dict(salary_dic, orient='index')\n",
    "df4 = df4.T\n",
    "df4 = df4.rename(index={0: 'amazon'})\n",
    "df4.head()"
   ]
  },
  {
   "cell_type": "code",
   "execution_count": 192,
   "id": "a37826e2",
   "metadata": {},
   "outputs": [
    {
     "name": "stdout",
     "output_type": "stream",
     "text": [
      "{'Product Manager': '$129K', 'Software Engineer': '$102K', 'Business Analyst': '$103K', 'Data Scientist': '$145K', 'Hardware Engineer': '$118K', 'Human Resources': '$179K', 'Information Technologist': '$108K', 'Management Consultant': '$150K', 'Marketing': '$141K', 'Product Designer': '$139K', 'Recruiter': '$89K', 'Sales': '$185K', 'Software Engineering Manager': '$202K', 'Solution Architect': '$187K', 'Technical Program Manager': '$220K'}\n"
     ]
    }
   ],
   "source": [
    "url = \"https://www.levels.fyi/companies/ibm/salaries\"\n",
    "headers = {\"User-Agent\": \"Mozilla/5.0 (Windows NT 10.0; Win64; x64) AppleWebKit/537.36 (KHTML, like Gecko) Chrome/103.0.5060.134 Safari/537.36 Edg/103.0.1264.77\"}\n",
    "page = requests.get(url, headers=headers)\n",
    "doc = BeautifulSoup(page.content, \"html.parser\")\n",
    "salary_dic = {}\n",
    "job_list = doc.find_all(class_=\"MuiGrid-root MuiGrid-item MuiGrid-grid-xs-12 css-1yfttyz\")\n",
    "for i in job_list:\n",
    "    job_title_item = i.find(class_=\"MuiTypography-root MuiTypography-h6 css-a8x665\")\n",
    "    job_title = list(job_title_item.children)[0]\n",
    "    salary_item = i.find(class_=\"MuiTypography-root MuiTypography-caption css-1gosaog\")\n",
    "    salary = salary_item.strong.string\n",
    "    salary_dic[job_title] = salary\n",
    "print(salary_dic)"
   ]
  },
  {
   "cell_type": "code",
   "execution_count": 193,
   "id": "70f0ee98",
   "metadata": {},
   "outputs": [
    {
     "data": {
      "text/html": [
       "<div>\n",
       "<style scoped>\n",
       "    .dataframe tbody tr th:only-of-type {\n",
       "        vertical-align: middle;\n",
       "    }\n",
       "\n",
       "    .dataframe tbody tr th {\n",
       "        vertical-align: top;\n",
       "    }\n",
       "\n",
       "    .dataframe thead th {\n",
       "        text-align: right;\n",
       "    }\n",
       "</style>\n",
       "<table border=\"1\" class=\"dataframe\">\n",
       "  <thead>\n",
       "    <tr style=\"text-align: right;\">\n",
       "      <th></th>\n",
       "      <th>Product Manager</th>\n",
       "      <th>Software Engineer</th>\n",
       "      <th>Business Analyst</th>\n",
       "      <th>Data Scientist</th>\n",
       "      <th>Hardware Engineer</th>\n",
       "      <th>Human Resources</th>\n",
       "      <th>Information Technologist</th>\n",
       "      <th>Management Consultant</th>\n",
       "      <th>Marketing</th>\n",
       "      <th>Product Designer</th>\n",
       "      <th>Recruiter</th>\n",
       "      <th>Sales</th>\n",
       "      <th>Software Engineering Manager</th>\n",
       "      <th>Solution Architect</th>\n",
       "      <th>Technical Program Manager</th>\n",
       "    </tr>\n",
       "  </thead>\n",
       "  <tbody>\n",
       "    <tr>\n",
       "      <th>amazon</th>\n",
       "      <td>$129K</td>\n",
       "      <td>$102K</td>\n",
       "      <td>$103K</td>\n",
       "      <td>$145K</td>\n",
       "      <td>$118K</td>\n",
       "      <td>$179K</td>\n",
       "      <td>$108K</td>\n",
       "      <td>$150K</td>\n",
       "      <td>$141K</td>\n",
       "      <td>$139K</td>\n",
       "      <td>$89K</td>\n",
       "      <td>$185K</td>\n",
       "      <td>$202K</td>\n",
       "      <td>$187K</td>\n",
       "      <td>$220K</td>\n",
       "    </tr>\n",
       "  </tbody>\n",
       "</table>\n",
       "</div>"
      ],
      "text/plain": [
       "       Product Manager Software Engineer Business Analyst Data Scientist  \\\n",
       "amazon           $129K             $102K            $103K          $145K   \n",
       "\n",
       "       Hardware Engineer Human Resources Information Technologist  \\\n",
       "amazon             $118K           $179K                    $108K   \n",
       "\n",
       "       Management Consultant Marketing Product Designer Recruiter  Sales  \\\n",
       "amazon                 $150K     $141K            $139K      $89K  $185K   \n",
       "\n",
       "       Software Engineering Manager Solution Architect  \\\n",
       "amazon                        $202K              $187K   \n",
       "\n",
       "       Technical Program Manager  \n",
       "amazon                     $220K  "
      ]
     },
     "execution_count": 193,
     "metadata": {},
     "output_type": "execute_result"
    }
   ],
   "source": [
    "df5 = pd.DataFrame.from_dict(salary_dic, orient='index')\n",
    "df5 = df5.T\n",
    "df5 = df5.rename(index={0: 'amazon'})\n",
    "df5.head()"
   ]
  },
  {
   "cell_type": "code",
   "execution_count": 194,
   "id": "b89202ea",
   "metadata": {},
   "outputs": [
    {
     "name": "stdout",
     "output_type": "stream",
     "text": [
      "{'Software Engineer': '$127K', 'Mechanical Engineer': '$113K', 'Hardware Engineer': '$135K', 'Technical Program Manager': '$180K', 'Business Analyst': '$100K', 'Data Scientist': '$162K', 'Human Resources': '$155K', 'Information Technologist': '$150K', 'Product Manager': '$167K', 'Recruiter': '$115K'}\n"
     ]
    }
   ],
   "source": [
    "url = \"https://www.levels.fyi/companies/tesla/salaries\"\n",
    "headers = {\"User-Agent\": \"Mozilla/5.0 (Windows NT 10.0; Win64; x64) AppleWebKit/537.36 (KHTML, like Gecko) Chrome/103.0.5060.134 Safari/537.36 Edg/103.0.1264.77\"}\n",
    "page = requests.get(url, headers=headers)\n",
    "doc = BeautifulSoup(page.content, \"html.parser\")\n",
    "salary_dic = {}\n",
    "job_list = doc.find_all(class_=\"MuiGrid-root MuiGrid-item MuiGrid-grid-xs-12 css-1yfttyz\")\n",
    "for i in job_list:\n",
    "    job_title_item = i.find(class_=\"MuiTypography-root MuiTypography-h6 css-a8x665\")\n",
    "    job_title = list(job_title_item.children)[0]\n",
    "    salary_item = i.find(class_=\"MuiTypography-root MuiTypography-caption css-1gosaog\")\n",
    "    salary = salary_item.strong.string\n",
    "    salary_dic[job_title] = salary\n",
    "print(salary_dic)"
   ]
  },
  {
   "cell_type": "code",
   "execution_count": 195,
   "id": "2f9793fd",
   "metadata": {},
   "outputs": [
    {
     "data": {
      "text/html": [
       "<div>\n",
       "<style scoped>\n",
       "    .dataframe tbody tr th:only-of-type {\n",
       "        vertical-align: middle;\n",
       "    }\n",
       "\n",
       "    .dataframe tbody tr th {\n",
       "        vertical-align: top;\n",
       "    }\n",
       "\n",
       "    .dataframe thead th {\n",
       "        text-align: right;\n",
       "    }\n",
       "</style>\n",
       "<table border=\"1\" class=\"dataframe\">\n",
       "  <thead>\n",
       "    <tr style=\"text-align: right;\">\n",
       "      <th></th>\n",
       "      <th>Software Engineer</th>\n",
       "      <th>Mechanical Engineer</th>\n",
       "      <th>Hardware Engineer</th>\n",
       "      <th>Technical Program Manager</th>\n",
       "      <th>Business Analyst</th>\n",
       "      <th>Data Scientist</th>\n",
       "      <th>Human Resources</th>\n",
       "      <th>Information Technologist</th>\n",
       "      <th>Product Manager</th>\n",
       "      <th>Recruiter</th>\n",
       "    </tr>\n",
       "  </thead>\n",
       "  <tbody>\n",
       "    <tr>\n",
       "      <th>amazon</th>\n",
       "      <td>$127K</td>\n",
       "      <td>$113K</td>\n",
       "      <td>$135K</td>\n",
       "      <td>$180K</td>\n",
       "      <td>$100K</td>\n",
       "      <td>$162K</td>\n",
       "      <td>$155K</td>\n",
       "      <td>$150K</td>\n",
       "      <td>$167K</td>\n",
       "      <td>$115K</td>\n",
       "    </tr>\n",
       "  </tbody>\n",
       "</table>\n",
       "</div>"
      ],
      "text/plain": [
       "       Software Engineer Mechanical Engineer Hardware Engineer  \\\n",
       "amazon             $127K               $113K             $135K   \n",
       "\n",
       "       Technical Program Manager Business Analyst Data Scientist  \\\n",
       "amazon                     $180K            $100K          $162K   \n",
       "\n",
       "       Human Resources Information Technologist Product Manager Recruiter  \n",
       "amazon           $155K                    $150K           $167K     $115K  "
      ]
     },
     "execution_count": 195,
     "metadata": {},
     "output_type": "execute_result"
    }
   ],
   "source": [
    "df6 = pd.DataFrame.from_dict(salary_dic, orient='index')\n",
    "df6 = df6.T\n",
    "df6 = df6.rename(index={0: 'amazon'})\n",
    "df6.head()"
   ]
  },
  {
   "cell_type": "code",
   "execution_count": 196,
   "id": "8570a0b2",
   "metadata": {},
   "outputs": [
    {
     "data": {
      "text/html": [
       "<div>\n",
       "<style scoped>\n",
       "    .dataframe tbody tr th:only-of-type {\n",
       "        vertical-align: middle;\n",
       "    }\n",
       "\n",
       "    .dataframe tbody tr th {\n",
       "        vertical-align: top;\n",
       "    }\n",
       "\n",
       "    .dataframe thead th {\n",
       "        text-align: right;\n",
       "    }\n",
       "</style>\n",
       "<table border=\"1\" class=\"dataframe\">\n",
       "  <thead>\n",
       "    <tr style=\"text-align: right;\">\n",
       "      <th></th>\n",
       "      <th>Product Manager</th>\n",
       "      <th>Software Engineer</th>\n",
       "      <th>Data Scientist</th>\n",
       "      <th>Business Analyst</th>\n",
       "    </tr>\n",
       "  </thead>\n",
       "  <tbody>\n",
       "    <tr>\n",
       "      <th>google</th>\n",
       "      <td>$168K</td>\n",
       "      <td>$191K</td>\n",
       "      <td>$158K</td>\n",
       "      <td>$142K</td>\n",
       "    </tr>\n",
       "    <tr>\n",
       "      <th>apple</th>\n",
       "      <td>$150K</td>\n",
       "      <td>$163K</td>\n",
       "      <td>$210K</td>\n",
       "      <td>$126K</td>\n",
       "    </tr>\n",
       "    <tr>\n",
       "      <th>amazon</th>\n",
       "      <td>$173K</td>\n",
       "      <td>$168K</td>\n",
       "      <td>$180K</td>\n",
       "      <td>$98K</td>\n",
       "    </tr>\n",
       "    <tr>\n",
       "      <th>microsoft</th>\n",
       "      <td>$164K</td>\n",
       "      <td>$159K</td>\n",
       "      <td>$163K</td>\n",
       "      <td>$129K</td>\n",
       "    </tr>\n",
       "    <tr>\n",
       "      <th>ibm</th>\n",
       "      <td>$129K</td>\n",
       "      <td>$102K</td>\n",
       "      <td>$145K</td>\n",
       "      <td>$103K</td>\n",
       "    </tr>\n",
       "    <tr>\n",
       "      <th>tesla</th>\n",
       "      <td>$167K</td>\n",
       "      <td>$127K</td>\n",
       "      <td>$162K</td>\n",
       "      <td>$100K</td>\n",
       "    </tr>\n",
       "  </tbody>\n",
       "</table>\n",
       "</div>"
      ],
      "text/plain": [
       "          Product Manager Software Engineer Data Scientist Business Analyst\n",
       "google              $168K             $191K          $158K            $142K\n",
       "apple               $150K             $163K          $210K            $126K\n",
       "amazon              $173K             $168K          $180K             $98K\n",
       "microsoft           $164K             $159K          $163K            $129K\n",
       "ibm                 $129K             $102K          $145K            $103K\n",
       "tesla               $167K             $127K          $162K            $100K"
      ]
     },
     "execution_count": 196,
     "metadata": {},
     "output_type": "execute_result"
    }
   ],
   "source": [
    "result = pd.concat([df1, df2, df3, df4, df5, df6], ignore_index=True, sort=False)\n",
    "result = result.loc[:, ['Product Manager', 'Software Engineer', 'Data Scientist', 'Business Analyst']]\n",
    "result = result.rename(index={0:'google', 1:'apple', 2: 'amazon', 3:'microsoft', 4: 'ibm', 5:'tesla'})\n",
    "result"
   ]
  },
  {
   "cell_type": "code",
   "execution_count": 197,
   "id": "4be37c08",
   "metadata": {},
   "outputs": [
    {
     "data": {
      "text/html": [
       "<div>\n",
       "<style scoped>\n",
       "    .dataframe tbody tr th:only-of-type {\n",
       "        vertical-align: middle;\n",
       "    }\n",
       "\n",
       "    .dataframe tbody tr th {\n",
       "        vertical-align: top;\n",
       "    }\n",
       "\n",
       "    .dataframe thead th {\n",
       "        text-align: right;\n",
       "    }\n",
       "</style>\n",
       "<table border=\"1\" class=\"dataframe\">\n",
       "  <thead>\n",
       "    <tr style=\"text-align: right;\">\n",
       "      <th></th>\n",
       "      <th>Product Manager</th>\n",
       "      <th>Software Engineer</th>\n",
       "      <th>Data Scientist</th>\n",
       "      <th>Business Analyst</th>\n",
       "    </tr>\n",
       "  </thead>\n",
       "  <tbody>\n",
       "    <tr>\n",
       "      <th>google</th>\n",
       "      <td>168</td>\n",
       "      <td>191</td>\n",
       "      <td>158</td>\n",
       "      <td>142</td>\n",
       "    </tr>\n",
       "    <tr>\n",
       "      <th>apple</th>\n",
       "      <td>150</td>\n",
       "      <td>163</td>\n",
       "      <td>210</td>\n",
       "      <td>126</td>\n",
       "    </tr>\n",
       "    <tr>\n",
       "      <th>amazon</th>\n",
       "      <td>173</td>\n",
       "      <td>168</td>\n",
       "      <td>180</td>\n",
       "      <td>98</td>\n",
       "    </tr>\n",
       "    <tr>\n",
       "      <th>microsoft</th>\n",
       "      <td>164</td>\n",
       "      <td>159</td>\n",
       "      <td>163</td>\n",
       "      <td>129</td>\n",
       "    </tr>\n",
       "    <tr>\n",
       "      <th>ibm</th>\n",
       "      <td>129</td>\n",
       "      <td>102</td>\n",
       "      <td>145</td>\n",
       "      <td>103</td>\n",
       "    </tr>\n",
       "    <tr>\n",
       "      <th>tesla</th>\n",
       "      <td>167</td>\n",
       "      <td>127</td>\n",
       "      <td>162</td>\n",
       "      <td>100</td>\n",
       "    </tr>\n",
       "  </tbody>\n",
       "</table>\n",
       "</div>"
      ],
      "text/plain": [
       "           Product Manager  Software Engineer  Data Scientist  \\\n",
       "google                 168                191             158   \n",
       "apple                  150                163             210   \n",
       "amazon                 173                168             180   \n",
       "microsoft              164                159             163   \n",
       "ibm                    129                102             145   \n",
       "tesla                  167                127             162   \n",
       "\n",
       "           Business Analyst  \n",
       "google                  142  \n",
       "apple                   126  \n",
       "amazon                   98  \n",
       "microsoft               129  \n",
       "ibm                     103  \n",
       "tesla                   100  "
      ]
     },
     "execution_count": 197,
     "metadata": {},
     "output_type": "execute_result"
    }
   ],
   "source": [
    "for column in result.columns:\n",
    "    result[column] = result[column].apply(lambda x: int(x.split(\"$\")[1].split(\"K\")[0]))\n",
    "result"
   ]
  },
  {
   "cell_type": "code",
   "execution_count": 200,
   "id": "0d76f5ec",
   "metadata": {},
   "outputs": [
    {
     "data": {
      "text/plain": [
       "numpy.int64"
      ]
     },
     "execution_count": 200,
     "metadata": {},
     "output_type": "execute_result"
    }
   ],
   "source": [
    "type(result.loc['google','Product Manager'])"
   ]
  },
  {
   "cell_type": "code",
   "execution_count": 233,
   "id": "96321d94",
   "metadata": {},
   "outputs": [
    {
     "name": "stdout",
     "output_type": "stream",
     "text": [
      "Product Manager      158.500000\n",
      "Software Engineer    151.666667\n",
      "Data Scientist       169.666667\n",
      "Business Analyst     116.333333\n",
      "dtype: float64\n"
     ]
    }
   ],
   "source": [
    "mean_salary = result.mean(axis=0)\n",
    "print(mean_salary)"
   ]
  },
  {
   "cell_type": "code",
   "execution_count": 240,
   "id": "caf9c284",
   "metadata": {},
   "outputs": [
    {
     "data": {
      "image/png": "[encoded data removed]",
      "text/plain": [
       "<Figure size 504x288 with 1 Axes>"
      ]
     },
     "metadata": {
      "needs_background": "light"
     },
     "output_type": "display_data"
    }
   ],
   "source": [
    "from matplotlib import pyplot as plt\n",
    "plt.figure(figsize=(7,4))\n",
    "plt.bar(list(result.index), result.loc[:,'Product Manager'])\n",
    "plt.ylim(0, 250)\n",
    "plt.title('Product Manager Salary (Entry Level)')\n",
    "plt.ylabel('Salary(K)')\n",
    "plt.show()"
   ]
  },
  {
   "cell_type": "code",
   "execution_count": 241,
   "id": "2f5fca98",
   "metadata": {},
   "outputs": [
    {
     "data": {
      "image/png": "[encoded data removed]",
      "text/plain": [
       "<Figure size 504x288 with 1 Axes>"
      ]
     },
     "metadata": {
      "needs_background": "light"
     },
     "output_type": "display_data"
    }
   ],
   "source": [
    "from matplotlib import pyplot as plt\n",
    "plt.figure(figsize=(7,4))\n",
    "plt.bar(list(result.index), result.loc[:,'Software Engineer'])\n",
    "plt.ylim(0, 250)\n",
    "plt.title('Software Engineer Salary (Entry Level)')\n",
    "plt.ylabel('Salary(K)')\n",
    "plt.show()"
   ]
  },
  {
   "cell_type": "code",
   "execution_count": 236,
   "id": "41f4a855",
   "metadata": {},
   "outputs": [
    {
     "data": {
      "image/png": "[encoded data removed]",
      "text/plain": [
       "<Figure size 504x288 with 1 Axes>"
      ]
     },
     "metadata": {
      "needs_background": "light"
     },
     "output_type": "display_data"
    }
   ],
   "source": [
    "from matplotlib import pyplot as plt\n",
    "plt.figure(figsize=(7,4))\n",
    "plt.bar(list(result.index), result.loc[:,'Data Scientist'])\n",
    "plt.ylim(0, 250)\n",
    "plt.title('Data Scientist Salary (Entry Level)')\n",
    "plt.ylabel('Salary(K)')\n",
    "plt.show()"
   ]
  },
  {
   "cell_type": "code",
   "execution_count": 242,
   "id": "4ef20a72",
   "metadata": {},
   "outputs": [
    {
     "data": {
      "image/png": "[encoded data removed]",
      "text/plain": [
       "<Figure size 504x288 with 1 Axes>"
      ]
     },
     "metadata": {
      "needs_background": "light"
     },
     "output_type": "display_data"
    }
   ],
   "source": [
    "from matplotlib import pyplot as plt\n",
    "plt.figure(figsize=(7,4))\n",
    "plt.bar(list(result.index), result.loc[:,'Business Analyst'])\n",
    "plt.ylim(0, 250)\n",
    "plt.title('Business Analyst Salary (Entry Level)')\n",
    "plt.ylabel('Salary(K)')\n",
    "plt.show()"
   ]
  },
  {
   "cell_type": "code",
   "execution_count": null,
   "id": "4d6bab17",
   "metadata": {},
   "outputs": [],
   "source": []
  }
 ],
 "metadata": {
  "kernelspec": {
   "display_name": "Python 3 (ipykernel)",
   "language": "python",
   "name": "python3"
  },
  "language_info": {
   "codemirror_mode": {
    "name": "ipython",
    "version": 3
   },
   "file_extension": ".py",
   "mimetype": "text/x-python",
   "name": "python",
   "nbconvert_exporter": "python",
   "pygments_lexer": "ipython3",
   "version": "3.9.7"
  }
 },
 "nbformat": 4,
 "nbformat_minor": 5
}
