{
 "cells": [
  {
   "cell_type": "code",
   "execution_count": 1,
   "id": "b6a02187",
   "metadata": {},
   "outputs": [],
   "source": [
    "from bs4 import BeautifulSoup\n",
    "import re\n",
    "import requests"
   ]
  },
  {
   "cell_type": "code",
   "execution_count": 2,
   "id": "86dadb4c",
   "metadata": {},
   "outputs": [],
   "source": [
    "search = 3090\n",
    "url = f\"https://www.newegg.com/p/pl?d={search}&page=1\"\n",
    "page = requests.get(url).text\n",
    "doc = BeautifulSoup(page, \"html.parser\")"
   ]
  },
  {
   "cell_type": "code",
   "execution_count": 3,
   "id": "fb7012c8",
   "metadata": {},
   "outputs": [
    {
     "name": "stdout",
     "output_type": "stream",
     "text": [
      "3\n"
     ]
    }
   ],
   "source": [
    "btn_all = doc.find_all(class_=\"btn-group-cell\")\n",
    "btn = btn_all[-2]\n",
    "n = int(btn.button.string)\n",
    "print(n)"
   ]
  },
  {
   "cell_type": "code",
   "execution_count": 4,
   "id": "ae46b7d3",
   "metadata": {
    "scrolled": false
   },
   "outputs": [
    {
     "name": "stdout",
     "output_type": "stream",
     "text": [
      "{'EVGA GeForce RTX 3090 Ti FTW3 ULTRA GAMING, 24G-P5-4985-KR, 24GB GDDR6X, iCX3 Technology, ARGB LED, Metal Backplate, Includes eLeash': {'link': 'https://www.newegg.com/evga-geforce-rtx-3090-ti-24g-p5-4985-kr/p/N82E16814487560?Description=3090&cm_re=3090-_-14-487-560-_-Product', 'price': 1999}, 'MSI Gaming GeForce RTX 3090 24GB GDDR6X PCI Express 4.0 SLI Support Video Card RTX 3090 GAMING X TRIO 24G': {'link': 'https://www.newegg.com/msi-geforce-rtx-3090-rtx-3090-gaming-x-trio-24g/p/N82E16814137595R?Description=3090&cm_re=3090-_-14-137-595R-_-Product', 'price': 1399}, 'ASUS ROG Strix GeForce RTX 3090 24GB GDDR6X PCI Express 4.0 SLI Support Video Card ROG-STRIX-RTX3090-O24G-WHITE': {'link': 'https://www.newegg.com/asus-geforce-rtx-3090-rog-strix-rtx3090-o24g-white/p/N82E16814126482?Description=3090&cm_re=3090-_-14-126-482-_-Product', 'price': 1918}, 'GIGABYTE Gaming GeForce RTX 3090 Ti 24GB GDDR6X PCI Express 4.0 ATX Video Card GV-N309TGAMING OC-24GD': {'link': 'https://www.newegg.com/gigabyte-geforce-rtx-3090-ti-gv-n309tgaming-oc-24gd/p/N82E16814932511?Description=3090&cm_re=3090-_-14-932-511-_-Product', 'price': 2149}, 'GIGABYTE GeForce RTX 3090 GAMING OC 24G Video Card, GV-N3090GAMING OC-24GD': {'link': 'https://www.newegg.com/gigabyte-geforce-rtx-3090-gv-n3090gaming-oc-24gd/p/N82E16814932327R?Description=3090&cm_re=3090-_-14-932-327R-_-Product', 'price': 1799}, 'GIGABYTE AORUS GeForce RTX 3090 Ti XTREME WATERFORCE 24GB GDDR6X PCI Express 4.0 ATX Video Card GV-N309TAORUSX W-24GD': {'link': 'https://www.newegg.com/gigabyte-geforce-rtx-3090-ti-gv-n309taorusx-w-24gd/p/N82E16814932510?Description=3090&cm_re=3090-_-14-932-510-_-Product', 'price': 1499}, 'MSI Suprim GeForce RTX 3090 Ti 24GB GDDR6X PCI Express 4.0 SLI Support ATX Video Card RTX 3090 TI SUPRIM X 24G': {'link': 'https://www.newegg.com/msi-geforce-rtx-3090-ti-rtx-3090-ti-suprim-x-24g/p/N82E16814137727?Description=3090&cm_re=3090-_-14-137-727-_-Product', 'price': 2199}, 'MSI Ventus GeForce RTX 3090 24GB GDDR6X PCI Express 4.0 SLI Support Video Card RTX 3090 VENTUS 3X 24G OC': {'link': 'https://www.newegg.com/msi-geforce-rtx-3090-rtx-3090-ventus-3x-24g-oc/p/N82E16814137596R?Description=3090&cm_re=3090-_-14-137-596R-_-Product', 'price': 1499}, 'MSI Gaming GeForce RTX 3090 Ti 24GB GDDR6X PCI Express 4.0 SLI Support ATX Video Card RTX 3090 TI GAMING X TRIO 24G': {'link': 'https://www.newegg.com/msi-geforce-rtx-3090-ti-rtx-3090-ti-gaming-x-trio-24g/p/N82E16814137728?Description=3090&cm_re=3090-_-14-137-728-_-Product', 'price': 1999}, 'GIGABYTE Gaming GeForce RTX 3090 Ti 24GB GDDR6X PCI Express 4.0 ATX Video Card GV-N309TGAMING-24GD': {'link': 'https://www.newegg.com/gigabyte-geforce-rtx-3090-ti-gv-n309tgaming-24gd/p/N82E16814932512?Description=3090&cm_re=3090-_-14-932-512-_-Product', 'price': 1499}, 'ZOTAC ArcticStorm GeForce RTX 3090 24GB GDDR6X PCI Express 4.0 SLI Support ATX Video Card ZT-A30900Q-30P': {'link': 'https://www.newegg.com/zotac-geforce-rtx-3090-zt-a30900q-30p/p/N82E16814500532R?Description=3090&cm_re=3090-_-14-500-532R-_-Product', 'price': 1299}, 'ASUS TUF Gaming GeForce RTX 3090 24GB GDDR6X PCI Express 4.0 SLI Support Video Card TUF-RTX3090-O24G-GAMING': {'link': 'https://www.newegg.com/asus-geforce-rtx-3090-tuf-rtx3090-o24g-gaming/p/N82E16814126454?Description=3090&cm_re=3090-_-14-126-454-_-Product', 'price': 1249}, 'ASUS TUF Gaming GeForce RTX 3090 Ti 24GB GDDR6X PCI Express 4.0 SLI Support Video Card TUF-RTX3090TI-O24G-GAMING': {'link': 'https://www.newegg.com/asus-geforce-rtx-3090-ti-tuf-rtx3090ti-o24g-gaming/p/N82E16814126555R?Description=3090&cm_re=3090-_-14-126-555R-_-Product', 'price': 1399}, 'ASUS ROG Strix NVIDIA GeForce RTX 3090 OC EVA EDITION Gaming Graphics Card (PCIe 4.0, 24GB GDDR6X, HDMI 2.1, DisplayPort 1.4a, Axial-tech Fan Design, 2.9-slot, Super Alloy Power II, GPU Tweak)': {'link': 'https://www.newegg.com/asus-geforce-rtx-3090-rog-strix-rtx3090-o24g-eva/p/N82E16814126579?Description=3090&cm_re=3090-_-14-126-579-_-Product', 'price': 2049}, 'EVGA GeForce RTX 3090 Ti FTW3 GAMING, 24G-P5-4983-KR, 24GB GDDR6X, iCX3 Technology, ARGB LED, Metal Backplate, Includes eLeash': {'link': 'https://www.newegg.com/evga-geforce-rtx-3090-ti-24g-p5-4983-kr/p/N82E16814487561?Description=3090&cm_re=3090-_-14-487-561-_-Product', 'price': 1999}, 'EVGA GeForce RTX 3090 XC3 ULTRA GAMING Video Card, 24G-P5-3975-KR, 24GB GDDR6X, iCX3 Cooling, ARGB LED, Metal Backplate': {'link': 'https://www.newegg.com/evga-geforce-rtx-3090-24g-p5-3975-kr/p/N82E16814487524?Description=3090&cm_re=3090-_-14-487-524-_-Product', 'price': 1499}, 'ZOTAC GAMING GeForce RTX 3090 Ti AMP Extreme Holo 24GB GDDR6X 384-bit 21 Gbps PCIE 4.0 Gaming Graphics Card, HoloBlack, IceStorm 2.0 Advanced Cooling, SPECTRA 2.0 RGB Lighting, ZT-A30910B-10P': {'link': 'https://www.newegg.com/zotac-geforce-rtx-3090-ti-zt-a30910b-10p/p/N82E16814500533R?Description=3090&cm_re=3090-_-14-500-533R-_-Product', 'price': 1499}, 'ABS Legend Gaming PC - Intel i9 11900KF - GeForce RTX 3090 - G.Skill TridentZ RGB 32GB DDR4 3200MHz - 2TB Intel M.2 NVMe SSD': {'link': 'https://www.newegg.com/abs-ali527/p/N82E16883360132?Description=3090&cm_re=3090-_-83-360-132-_-Product', 'price': 3899}, 'ABS Gladiator Gaming PC - Intel i9 12900KF - GeForce RTX 3080 - G.Skill TridentZ RGB 32GB (2x16GB) DDR4 3200MHz - 1TB M.2 NVMe SSD - Corsair iCue 5000x Gaming Case': {'link': 'https://www.newegg.com/abs-ali631/p/N82E16883360296?Description=3090&cm_re=3090-_-83-360-296-_-Product', 'price': 2649}, 'ADENINE Alpha006-AT Gaming Desktop - Intel i9-12900K, GeForce RTX 3090, Z690-F, M.2 2280 2TB, 32GB DDR5 RAM, Win 11 Pro': {'link': 'https://www.newegg.com/adenine-alpha006-at/p/N82E16883099012R?Description=3090&cm_re=3090-_-83-099-012R-_-Product', 'price': 3612}, 'ABS Legend Gaming PC - Intel i9 10850K - GeForce RTX 3090 - 32GB RGB DDR4 3200MHz - 1TB Intel M.2 NVMe SSD - 240MM RGB AIO': {'link': 'https://www.newegg.com/abs-ali511-legend/p/N82E16883360111R?Description=3090&cm_re=3090-_-83-360-111R-_-Product', 'price': 3039}, 'ABS Legend Gaming PC - Intel i9 11900K - ASUS ROG STRIX GeForce RTX 3090 OC - G.Skill TridentZ RGB 32GB DDR4 3200MHz - 2TB Intel 670P M.2 NVMe SSD - Corsair H115i RGB Platinum 280MM - Win 10 Pro': {'link': 'https://www.newegg.com/abs-ali542-legend/p/N82E16883360162R?Description=3090&cm_re=3090-_-83-360-162R-_-Product', 'price': 2939}, 'GIGABYTE AORUS GeForce RTX 3090 24GB GDDR6X PCI Express 4.0 GAMING BOX GV-N3090IXEB-24GD': {'link': 'https://www.newegg.com/gigabyte-geforce-rtx-3090-gv-n3090ixeb-24gd/p/N82E16814932495?Description=3090&cm_re=3090-_-14-932-495-_-Product', 'price': 1990}, 'MSI Gaming Desktop MEG Trident X 11TJ-1869US Intel Core i9 11th Gen 11900K (3.50GHz) 64GB DDR4 2TB HDD 2 TB PCIe SSD NVIDIA GeForce RTX 3090 Windows 10 Pro 64-bit': {'link': 'https://www.newegg.com/msi-meg-trident-x-11tj-1869us/p/N82E16883152818?Description=3090&cm_re=3090-_-83-152-818-_-Product', 'price': 4699}, 'ABS Legend Gaming PC - Intel i7 11700K - EVGA GeForce RTX 3090 FTW3 Ultra Gaming - G.Skill TridentZ RGB 32GB DDR4 3200MHz - 1TB Intel M.2 NVMe SSD - EVGA CLC 240MM RGB AIO': {'link': 'https://www.newegg.com/abs-ali508-legend/p/N82E16883360108R?Description=3090&cm_re=3090-_-83-360-108R-_-Product', 'price': 3009}, 'CLX SET Gaming Desktop - Liquid Cooled - Intel Core i9 10900KF 3.70 GHz 10-Cores Processor, 32GB DDR4 Memory, GeForce RTX 3090 24GB GDDR6X Graphics, 480GB SSD, 3TB HDD, WiFi, Windows 11 Home 64-bit': {'link': 'https://www.newegg.com/clx-tgmsetrth0938bm/p/3D5-000B-001E0?Description=3090&cm_re=3090-_-3D5-000B-001E0-_-Product', 'price': 3568}, 'CLX SET Gaming Desktop - Liquid Cooled - Intel Core i9 10850K 3.60 GHz 10-Cores Processor, 64GB DDR4 Memory, GeForce RTX 3090 24GB GDDR6X Graphics, 1TB SSD, 6TB HDD, WiFi, Windows 11 Home 64-bit': {'link': 'https://www.newegg.com/clx-tgmsetrth0940bm/p/3D5-000B-001E6?Description=3090&cm_re=3090-_-3D5-000B-001E6-_-Product', 'price': 4160}, 'GIGABYTE Eagle OC GeForce RTX 3060 12GB GDDR6 PCI Express 4.0 ATX Video Card GV-N3060EAGLE OC-12GD (rev. 2.0) (LHR)': {'link': 'https://www.newegg.com/gigabyte-geforce-rtx-3060-gv-n3060eagle-oc-12gd/p/N82E16814932434?Description=3090&cm_re=3090-_-14-932-434-_-Product', 'price': 429}, 'CLX SET VR-Ready Gaming Desktop - Liquid Cooled AMD Ryzen 9 5900X 3.7Ghz 12-Core Processor, 32GB DDR4 Memory, GeForce RTX 3090 24GB GDDR6X Graphics, 960GB SSD, 4TB HDD, WiFi, Windows 11 Home 64-bit': {'link': 'https://www.newegg.com/clx-tgmsetrth0b19br/p/3D5-000B-001U6?Description=3090&cm_re=3090-_-3D5-000B-001U6-_-Product', 'price': 4601}, 'CLX SET VR-Ready Gaming Desktop - Liquid Cooled AMD Ryzen 9 5950X 3.4Ghz 16-Core Processor, 64GB DDR4 Memory, GeForce RTX 3090 24GB GDDR6X Graphics, 1TB SSD, 6TB HDD, WiFi, Windows 11 Home 64-bit': {'link': 'https://www.newegg.com/clx-tgmsetrth0b28bm/p/3D5-000B-001U5R?Description=3090&cm_re=3090-_-3D5-000B-001U5R-_-Product', 'price': 3962}, 'ABS Legend Gaming PC - Intel i9 10900KF - GeForce RTX 3090 - G.Skill TridentZ RGB 32GB  DDR4 3200 MHz - 1TB M.2 NVMe SSD': {'link': 'https://www.newegg.com/abs-ali445-legend/p/N82E16883360029R?Description=3090&cm_re=3090-_-83-360-029R-_-Product', 'price': 2729}, 'CLX SET Gaming Desktop - Liquid Cooled - Intel Core i9 10900KF 3.70 GHz 10-Cores Processor, 64GB DDR4 Memory, GeForce RTX 3090 24GB GDDR6X Graphics, 1TB SSD, 6TB HDD, WiFi, Windows 11 Home 64-bit': {'link': 'https://www.newegg.com/clx-tgmsetrth0941bm/p/3D5-000B-001D5?Description=3090&cm_re=3090-_-3D5-000B-001D5-_-Product', 'price': 4333}, 'CLX SET VR-Ready Gaming Desktop - Liquid Cooled AMD Ryzen 9 5900X 3.7Ghz 12-Core Processor, 64GB DDR4 Memory, GeForce RTX 3090 24GB GDDR6X Graphics, 1TB SSD, 6TB HDD, WiFi, Windows 11 Home 64-bit': {'link': 'https://www.newegg.com/clx-tgmsetrth0b27bm/p/3D5-000B-001U2?Description=3090&cm_re=3090-_-3D5-000B-001U2-_-Product', 'price': 4478}, 'Skytech PRISM II Gaming PC Desktop - AMD Ryzen 7 5800X 3.8GHz, RTX 3090 24GB GDDR6X, 32GB DDR4 3600 RGB, 1TB Gen4 SSD, 360mm AIO, AC WiFi, Windows 10 Home 64-bit (Refurbished)': {'link': 'https://www.newegg.com/skytech-st-prism-ii-0132-r/p/N82E16883289190?Description=3090&cm_re=3090-_-83-289-190-_-Product', 'price': 2949}, 'MSI Mech Radeon RX 6600 8GB GDDR6 PCI Express 4.0 Video Card RX 6600 MECH 2X 8G': {'link': 'https://www.newegg.com/msi-radeon-rx-6600-mech-2x-8g/p/N82E16814137690?Description=3090&cm_re=3090-_-14-137-690-_-Product', 'price': 389}, 'ABS Legend Gaming PC - Intel i7 11700K - Gigabyte RTX 3090 Gaming OC - G.Skill TridentZ RGB 32GB DDR4 3200MHz - 1TB Intel 670P M.2 NVMe SSD - 240MM RGB AIO': {'link': 'https://www.newegg.com/abs-ali553-legend/p/N82E16883360183R?Description=3090&cm_re=3090-_-83-360-183R-_-Product', 'price': 2799}, 'CLX SET Gaming Desktop - Liquid Cooled - Intel Core i9 10980XE 3.00 GHz 18-Cores Processor, 64GB DDR4 Memory, GeForce RTX 3090 24GB GDDR6X Graphics, 1TB SSD, 6TB HDD, WiFi, Windows 11 Home 64-bit': {'link': 'https://www.newegg.com/clx-tgmsetrth0947bm/p/3D5-000B-001F2?Description=3090&cm_re=3090-_-3D5-000B-001F2-_-Product', 'price': 4918}, 'ABS Legend Gaming PC - Windows 10 Pro - Intel i9-11900K - GeForce RTX 3090 - G.Skill TridentZ RGB 32GB DDR4 3200 MHz - 1TB M.2 Gigabyte AORUS Gen4 7000 SSD': {'link': 'https://www.newegg.com/abs-ali543-legend/p/N82E16883360163R?Description=3090&cm_re=3090-_-83-360-163R-_-Product', 'price': 3079}, 'ABS Legend Gaming PC - Intel i9 10850K - EVGA GeForce RTX 3090 FTW3 Ultra Gaming - G.Skill TridentZ RGB 32GB DDR4 3200MHz - 1TB Intel M.2 NVMe SSD - EVGA CLC 240MM RGB AIO': {'link': 'https://www.newegg.com/abs-ali523-legend/p/N82E16883360128R?Description=3090&cm_re=3090-_-83-360-128R-_-Product', 'price': 3359}, 'ABS Legend Gaming PC - Intel i9 10900KF - ASUS ROG STRIX GeForce RTX 3090 OC 24GB White - CORSAIR Vengeance Pro RGB 32GB DDR4 3600MHz - 2TB Intel M.2 NVMe SSD - CORSAIR H115i RGB Platinum 280MM AIO': {'link': 'https://www.newegg.com/abs-ali492-legend/p/N82E16883360087R?Description=3090&cm_re=3090-_-83-360-087R-_-Product', 'price': 2852}, 'ABS Legend Gaming PC - Intel i9 11900K - GeForce RTX 3090 - G.Skill TridentZ RGB 32GB DDR4 3200MHz - 2TB Intel 670P M.2 NVMe SSD - Corsair H115i RGB Platinum 280MM - Win 10 Pro': {'link': 'https://www.newegg.com/abs-ali542/p/N82E16883360162?Description=3090&cm_re=3090-_-83-360-162-_-Product', 'price': 4199}, 'ABS Legend Gaming PC - Intel i9 10900KF - ASUS ROG STRIX GeForce RTX 3090 OC - G.Skill TridentZ RGB 32GB DDR4 3200MHz - 2TB Intel 660P M.2 NVMe SSD - Corsair H115i RGB Platinum 280MM AIO': {'link': 'https://www.newegg.com/abs-ali528-legend/p/N82E16883360133R?Description=3090&cm_re=3090-_-83-360-133R-_-Product', 'price': 3999}, 'Helix ADENINE Gaming PC - AMD RYZEN 9 5950X - GIGABYTE AORUS GeForce RTX 3090 XTREME - G.SKILL TridentZ RGB 32GB 3200MHz - 1TB Intel M.2 NVMe SSD - NZXT Kraken Z73A AIO': {'link': 'https://www.newegg.com/helix-adenine/p/N82E16883098008R?Description=3090&cm_re=3090-_-83-098-008R-_-Product', 'price': 3399}, 'CLX SET VR-Ready Gaming Desktop - Liquid Cooled AMD Ryzen 9 5950X 3.4GHz 16-Core Processor, 32GB DDR4 Memory, GeForce RTX 3090 24GB GDDR6X Graphics, 960GB SSD, 4TB HDD, WiFi, Windows 11 Home 64-bit': {'link': 'https://www.newegg.com/clx-tgmsetrth0b20br/p/3D5-000B-001U9?Description=3090&cm_re=3090-_-3D5-000B-001U9-_-Product', 'price': 4330}, 'iBUYPOWER Gaming Desktop Revolt 3 i9BG Intel Core i9 11th Gen 11900KF (3.50GHz) 16GB DDR4 1 TB NVMe SSD NVIDIA GeForce RTX 3090 Windows 10 Home 64-bit': {'link': 'https://www.newegg.com/ibuypower-revolt-3-i9bg/p/N82E16883227948R?Description=3090&cm_re=3090-_-83-227-948R-_-Product', 'price': 2612}, 'ABS Legend Gaming PC - Intel i9 10900KF - GeForce RTX 3090 - G.Skill TridentZ RGB 32GB DDR4 3200MHZ - 2TB Intel M.2 NVMe SSD - AORUS RGB 280mm AIO': {'link': 'https://www.newegg.com/abs-ali482/p/N82E16883360077?Description=3090&cm_re=3090-_-83-360-077-_-Product', 'price': 3399}, 'CLX SET VR-Ready Gaming Desktop - Liquid Cooled AMD Ryzen 7 5800X 3.8Ghz 8-Core Processor, 32GB DDR4 Memory, GeForce RTX 3090 24GB GDDR6X Graphics, 480GB SSD, 3TB HDD, WiFi, Windows 11 Home 64-bit': {'link': 'https://www.newegg.com/clx-tgmsetrtm0b29bm/p/3D5-000B-001V0?Description=3090&cm_re=3090-_-3D5-000B-001V0-_-Product', 'price': 3780}, 'CLX SET VR-Ready Gaming Desktop - Liquid Cooled AMD Ryzen 9 5950X 3.4Ghz 16-Core Processor, 32GB DDR4 Memory, GeForce RTX 3090 24GB GDDR6X Graphics, 480GB SSD, 3TB HDD, WiFi, Windows 11 Home 64-bit': {'link': 'https://www.newegg.com/clx-tgmsetrth0b31bm/p/3D5-000B-001V2?Description=3090&cm_re=3090-_-3D5-000B-001V2-_-Product', 'price': 4079}, 'ASUS TUF Gaming NVIDIA GeForce RTX 3090 Ti Graphics Card (PCIe 4.0, 24GB GDDR6X, HDMI 2.1, DisplayPort 1.4a, Dual Ball Fan Bearings, Military-grade Certification, GPU Tweak) TUF-RTX3090TI-24G-GAMING': {'link': 'https://www.newegg.com/asus-geforce-rtx-3090-ti-tuf-rtx3090ti-24g-gaming/p/N82E16814126564R?Description=3090&cm_re=3090-_-14-126-564R-_-Product', 'price': 1699}, 'ABS Legend Gaming PC - Intel i9 11900K - GeForce RTX 3090 - G.Skill TridentZ RGB 32GB DDR4 3200MHz - 1TB AORUS GEN4 M.2 NVMe SSD - Corsair H115i Elite Capellix RGB 280MM AIO': {'link': 'https://www.newegg.com/abs-ali556-legend/p/N82E16883360186R?Description=3090&cm_re=3090-_-83-360-186R-_-Product', 'price': 3759}, 'ASUS ROG STRIX GeForce RTX 3090 Ti 24GB GDDR6X PCI Express 4.0 SLI Support Video Card ROG-STRIX-LC-RTX3090TI-O24G-GAMING': {'link': 'https://www.newegg.com/asus-geforce-rtx-3090-ti-rog-strix-lc-rtx3090ti-o24g-gaming/p/N82E16814126554?Description=3090&cm_re=3090-_-14-126-554-_-Product', 'price': 1499}, 'ABS Gladiator Gaming PC - Intel i7 11700KF - GeForce RTX 3080 - G.Skill TridentZ RGB 32GB DDR4 3200MHz - 1TB M.2 NVMe SSD': {'link': 'https://www.newegg.com/abs-ali622/p/N82E16883360287?Description=3090&cm_re=3090-_-83-360-287-_-Product', 'price': 2149}, 'GIGABYTE AORUS GeForce RTX 3090 24GB GDDR6X PCI Express 4.0 SLI Support ATX Video Card GV-N3090AORUSX W-24GD': {'link': 'https://www.newegg.com/gigabyte-geforce-rtx-3090-gv-n3090aorusx-w-24gd/p/N82E16814932501?Description=3090&cm_re=3090-_-14-932-501-_-Product', 'price': 2079}, 'GIGABYTE AORUS GeForce RTX 3090 XTREME 24GB Video Card, GV-N3090AORUS X-24GD': {'link': 'https://www.newegg.com/gigabyte-geforce-rtx-3090-gv-n3090aorus-x-24gd/p/N82E16814932340R?Description=3090&cm_re=3090-_-14-932-340R-_-Product', 'price': 2099}, 'ABS Master Gaming PC - Intel i5 12400F - GeForce RTX 3060 Ti - 16GB (2x8GB) DDR4 3200MHz - 1TB M.2 NVMe SSD': {'link': 'https://www.newegg.com/abs-ali629/p/N82E16883360294?Description=3090&cm_re=3090-_-83-360-294-_-Product', 'price': 1399}, 'PNY GeForce RTX 3090 24GB XLR8 Gaming EPIC-X RGB Triple Fan Graphics Card, VCG309024TFXPPB': {'link': 'https://www.newegg.com/pny-geforce-rtx-3090-vcg309024tfxppb/p/N82E16814133807?Description=3090&cm_re=3090-_-14-133-807-_-Product', 'price': 2199}, 'Monster Hunter Rise: Sunbreak Deluxe Edition - PC [Online Game Code] and ZOTAC ArcticStorm GeForce RTX 3090 Video Card ZT-A30900Q-30P': {'link': 'https://www.newegg.com/Product/ComboDealDetails?ItemList=Combo.4505626', 'price': 2844}, 'ELDEN RING - PC [Steam Online Game Code] and ZOTAC ArcticStorm GeForce RTX 3090 Video Card ZT-A30900Q-30P': {'link': 'https://www.newegg.com/Product/ComboDealDetails?ItemList=Combo.4505558', 'price': 2854}, 'FINAL FANTASY XIV ONLINE: Complete Edition (2021 w/Endwalker) - [Mog Station - PC Windows Download] Non-Steam and ZOTAC ArcticStorm GeForce RTX 3090 Video Card ZT-A30900Q-30P': {'link': 'https://www.newegg.com/Product/ComboDealDetails?ItemList=Combo.4505421', 'price': 2843}, 'ASUS ROG Strix GeForce RTX 3090 24GB GDDR6X PCI Express 4.0 SLI Support Video Card ROG-STRIX-RTX3090-O24G-GAMING': {'link': 'https://www.newegg.com/asus-geforce-rtx-3090-rog-strix-rtx3090-o24g-gaming/p/N82E16814126456?Description=3090&cm_re=3090-_-14-126-456-_-Product', 'price': 1299}, 'EVGA GeForce RTX 3090 FTW3 ULTRA GAMING Video Card, 24G-P5-3987-KR, 24GB GDDR6X, iCX3 Technology, ARGB LED, Metal Backplate': {'link': 'https://www.newegg.com/evga-geforce-rtx-3090-24g-p5-3987-kr/p/N82E16814487526?Description=3090&cm_re=3090-_-14-487-526-_-Product', 'price': 1549}, 'EVGA GeForce RTX 3090 Ti FTW3 BLACK GAMING, 24G-P5-4981-KR, 24GB GDDR6X, iCX3 Technology, ARGB LED, Metal Backplate, Includes eLeash': {'link': 'https://www.newegg.com/evga-geforce-rtx-3090-ti-24g-p5-4981-kr/p/N82E16814487562?Description=3090&cm_re=3090-_-14-487-562-_-Product', 'price': 1999}, 'ABS Legend Gaming PC - Intel i9 12900K - GeForce RTX 3090 - Corsair Vengeance RGB Pro 32GB (2x16GB) DDR4 3200MHz - 2TB Intel M.2 NVMe SSD - Corsair iCue 5000x Gaming Case': {'link': 'https://www.newegg.com/abs-ali596/p/N82E16883360231?Description=3090&cm_re=3090-_-83-360-231-_-Product', 'price': 4149}, 'GIGABYTE AORUS GeForce RTX 3090 MASTER 24G (rev. 2.0) Graphics Card, Max Covered Cooling, 24GB 384-bit GDDR6X, GV-N3090AORUS M-24GD REV2.0 Video Card': {'link': 'https://www.newegg.com/gigabyte-geforce-rtx-3090-gv-n3090aorus-m-24gd/p/N82E16814932476?Description=3090&cm_re=3090-_-14-932-476-_-Product', 'price': 2199}, 'ASUS TUF Gaming GeForce RTX 3090 TUF-RTX3090-24G-GAMING Video Card': {'link': 'https://www.newegg.com/asus-geforce-rtx-3090-tuf-rtx3090-24g-gaming/p/N82E16814126455?Description=3090&cm_re=3090-_-14-126-455-_-Product', 'price': 1874}, 'CLX SET VR-Ready Gaming Desktop - Liquid Cooled AMD Ryzen 9 5900X 3.7Ghz 12-Core Processor, 32GB DDR4 Memory, GeForce RTX 3090 24GB GDDR6X Graphics, 480GB SSD, 3TB HDD, WiFi, Windows 11 Home 64-bit': {'link': 'https://www.newegg.com/clx-tgmsetrth0b30bm/p/3D5-000B-001V1?Description=3090&cm_re=3090-_-3D5-000B-001V1-_-Product', 'price': 4128}, 'ABS Master Gaming PC - Intel i7 11700F - GeForce RTX 3060 Ti - 16GB DDR4 3000MHz - 1TB M.2 NVMe SSD': {'link': 'https://www.newegg.com/abs-ali560/p/N82E16883360190?Description=3090&cm_re=3090-_-83-360-190-_-Product', 'price': 1499}, 'ZOTAC GAMING GeForce RTX 3090 Trinity 24GB GDDR6X 384-bit 19.5 Gbps PCIE 4.0 Gaming Graphics Card, IceStorm 2.0 Advanced Cooling, SPECTRA 2.0 RGB Lighting, ZT-A30900D-10P': {'link': 'https://www.newegg.com/zotac-geforce-rtx-3090-zt-a30900d-10p/p/N82E16814500503?Description=3090&cm_re=3090-_-14-500-503-_-Product', 'price': 1999}, 'ZOTAC GAMING GeForce RTX 3090 AMP Core Holo 24GB GDDR6X 384-bit 19.5 Gbps PCIE 4.0 Gaming Graphics Card, HoloBlack, IceStorm 2.0 Advanced Cooling, SPECTRA 2.0 RGB Lighting, ZT-A30900C-10P': {'link': 'https://www.newegg.com/zotac-geforce-rtx-3090-zt-a30900c-10p/p/N82E16814500511?Description=3090&cm_re=3090-_-14-500-511-_-Product', 'price': 2599}, 'GIGABYTE GeForce RTX 3090 EAGLE 24GB Video Card, GV-N3090EAGLE-24GD': {'link': 'https://www.newegg.com/gigabyte-geforce-rtx-3090-gv-n3090eagle-24gd/p/N82E16814932366?Description=3090&cm_re=3090-_-14-932-366-_-Product', 'price': 1499}}\n"
     ]
    }
   ],
   "source": [
    "all_items = {}\n",
    "for page in range(1, n+1):\n",
    "    page_url = f\"https://www.newegg.com/p/pl?d={search}&page={page}\"\n",
    "    page_content = requests.get(page_url).text\n",
    "    page_doc = BeautifulSoup(page_content, \"html.parser\")\n",
    "    items = page_doc.find_all(class_=\"item-container\")\n",
    "    for item in items:\n",
    "        try:\n",
    "            item_name = item.find(class_=\"item-title\").string\n",
    "            item_link = item.find(class_=\"item-title\")['href']\n",
    "            item_price = int(item.find(class_=\"price\").strong.string.replace(\",\",\"\"))\n",
    "            all_items[item_name] = {'link': item_link, 'price': item_price}\n",
    "        except:\n",
    "            continue\n",
    "        \n",
    "print(all_items)"
   ]
  },
  {
   "cell_type": "markdown",
   "id": "ca485521",
   "metadata": {},
   "source": [
    "### The cheapest and most expensive product:"
   ]
  },
  {
   "cell_type": "code",
   "execution_count": 5,
   "id": "71ca2cba",
   "metadata": {
    "scrolled": false
   },
   "outputs": [
    {
     "name": "stdout",
     "output_type": "stream",
     "text": [
      "('MSI Mech Radeon RX 6600 8GB GDDR6 PCI Express 4.0 Video Card RX 6600 MECH 2X 8G', {'link': 'https://www.newegg.com/msi-radeon-rx-6600-mech-2x-8g/p/N82E16814137690?Description=3090&cm_re=3090-_-14-137-690-_-Product', 'price': 389})\n",
      "--------------------------\n",
      "('CLX SET Gaming Desktop - Liquid Cooled - Intel Core i9 10980XE 3.00 GHz 18-Cores Processor, 64GB DDR4 Memory, GeForce RTX 3090 24GB GDDR6X Graphics, 1TB SSD, 6TB HDD, WiFi, Windows 11 Home 64-bit', {'link': 'https://www.newegg.com/clx-tgmsetrth0947bm/p/3D5-000B-001F2?Description=3090&cm_re=3090-_-3D5-000B-001F2-_-Product', 'price': 4918})\n"
     ]
    }
   ],
   "source": [
    "sorted_items1 = sorted(all_items.items(), key=lambda x: x[1]['price'])\n",
    "sorted_items2 = sorted(all_items.items(), key=lambda x: x[1]['price'], reverse=True)\n",
    "print(sorted_items1[0])\n",
    "print(\"--------------------------\")\n",
    "print(sorted_items2[0])"
   ]
  },
  {
   "cell_type": "markdown",
   "id": "179a3b44",
   "metadata": {},
   "source": [
    "### Save data to a dataframe and CSV file:"
   ]
  },
  {
   "cell_type": "code",
   "execution_count": 35,
   "id": "b4393368",
   "metadata": {},
   "outputs": [],
   "source": [
    "import pandas as pd\n",
    "df = pd.DataFrame.from_dict(all_items, orient='index')\n",
    "df = df.sort_values(by=\"price\")\n",
    "df.index = df.index.rename('product')"
   ]
  },
  {
   "cell_type": "code",
   "execution_count": 37,
   "id": "b62e024e",
   "metadata": {},
   "outputs": [
    {
     "data": {
      "text/html": [
       "<div>\n",
       "<style scoped>\n",
       "    .dataframe tbody tr th:only-of-type {\n",
       "        vertical-align: middle;\n",
       "    }\n",
       "\n",
       "    .dataframe tbody tr th {\n",
       "        vertical-align: top;\n",
       "    }\n",
       "\n",
       "    .dataframe thead th {\n",
       "        text-align: right;\n",
       "    }\n",
       "</style>\n",
       "<table border=\"1\" class=\"dataframe\">\n",
       "  <thead>\n",
       "    <tr style=\"text-align: right;\">\n",
       "      <th></th>\n",
       "      <th>link</th>\n",
       "      <th>price</th>\n",
       "    </tr>\n",
       "    <tr>\n",
       "      <th>product</th>\n",
       "      <th></th>\n",
       "      <th></th>\n",
       "    </tr>\n",
       "  </thead>\n",
       "  <tbody>\n",
       "    <tr>\n",
       "      <th>MSI Mech Radeon RX 6600 8GB GDDR6 PCI Express 4.0 Video Card RX 6600 MECH 2X 8G</th>\n",
       "      <td>https://www.newegg.com/msi-radeon-rx-6600-mech...</td>\n",
       "      <td>389</td>\n",
       "    </tr>\n",
       "    <tr>\n",
       "      <th>GIGABYTE Eagle OC GeForce RTX 3060 12GB GDDR6 PCI Express 4.0 ATX Video Card GV-N3060EAGLE OC-12GD (rev. 2.0) (LHR)</th>\n",
       "      <td>https://www.newegg.com/gigabyte-geforce-rtx-30...</td>\n",
       "      <td>429</td>\n",
       "    </tr>\n",
       "    <tr>\n",
       "      <th>ASUS TUF Gaming GeForce RTX 3090 24GB GDDR6X PCI Express 4.0 SLI Support Video Card TUF-RTX3090-O24G-GAMING</th>\n",
       "      <td>https://www.newegg.com/asus-geforce-rtx-3090-t...</td>\n",
       "      <td>1249</td>\n",
       "    </tr>\n",
       "    <tr>\n",
       "      <th>ASUS ROG Strix GeForce RTX 3090 24GB GDDR6X PCI Express 4.0 SLI Support Video Card ROG-STRIX-RTX3090-O24G-GAMING</th>\n",
       "      <td>https://www.newegg.com/asus-geforce-rtx-3090-r...</td>\n",
       "      <td>1299</td>\n",
       "    </tr>\n",
       "    <tr>\n",
       "      <th>ZOTAC ArcticStorm GeForce RTX 3090 24GB GDDR6X PCI Express 4.0 SLI Support ATX Video Card ZT-A30900Q-30P</th>\n",
       "      <td>https://www.newegg.com/zotac-geforce-rtx-3090-...</td>\n",
       "      <td>1299</td>\n",
       "    </tr>\n",
       "  </tbody>\n",
       "</table>\n",
       "</div>"
      ],
      "text/plain": [
       "                                                                                                 link  \\\n",
       "product                                                                                                 \n",
       "MSI Mech Radeon RX 6600 8GB GDDR6 PCI Express 4...  https://www.newegg.com/msi-radeon-rx-6600-mech...   \n",
       "GIGABYTE Eagle OC GeForce RTX 3060 12GB GDDR6 P...  https://www.newegg.com/gigabyte-geforce-rtx-30...   \n",
       "ASUS TUF Gaming GeForce RTX 3090 24GB GDDR6X PC...  https://www.newegg.com/asus-geforce-rtx-3090-t...   \n",
       "ASUS ROG Strix GeForce RTX 3090 24GB GDDR6X PCI...  https://www.newegg.com/asus-geforce-rtx-3090-r...   \n",
       "ZOTAC ArcticStorm GeForce RTX 3090 24GB GDDR6X ...  https://www.newegg.com/zotac-geforce-rtx-3090-...   \n",
       "\n",
       "                                                    price  \n",
       "product                                                    \n",
       "MSI Mech Radeon RX 6600 8GB GDDR6 PCI Express 4...    389  \n",
       "GIGABYTE Eagle OC GeForce RTX 3060 12GB GDDR6 P...    429  \n",
       "ASUS TUF Gaming GeForce RTX 3090 24GB GDDR6X PC...   1249  \n",
       "ASUS ROG Strix GeForce RTX 3090 24GB GDDR6X PCI...   1299  \n",
       "ZOTAC ArcticStorm GeForce RTX 3090 24GB GDDR6X ...   1299  "
      ]
     },
     "execution_count": 37,
     "metadata": {},
     "output_type": "execute_result"
    }
   ],
   "source": [
    "df.head()"
   ]
  },
  {
   "cell_type": "code",
   "execution_count": 41,
   "id": "61dc5968",
   "metadata": {},
   "outputs": [],
   "source": [
    "df.to_csv(str(search)+' product', encoding='utf-8')"
   ]
  },
  {
   "cell_type": "code",
   "execution_count": 46,
   "id": "32fe74cc",
   "metadata": {},
   "outputs": [
    {
     "data": {
      "text/html": [
       "<div>\n",
       "<style scoped>\n",
       "    .dataframe tbody tr th:only-of-type {\n",
       "        vertical-align: middle;\n",
       "    }\n",
       "\n",
       "    .dataframe tbody tr th {\n",
       "        vertical-align: top;\n",
       "    }\n",
       "\n",
       "    .dataframe thead th {\n",
       "        text-align: right;\n",
       "    }\n",
       "</style>\n",
       "<table border=\"1\" class=\"dataframe\">\n",
       "  <thead>\n",
       "    <tr style=\"text-align: right;\">\n",
       "      <th></th>\n",
       "      <th>link</th>\n",
       "      <th>price</th>\n",
       "    </tr>\n",
       "    <tr>\n",
       "      <th>product</th>\n",
       "      <th></th>\n",
       "      <th></th>\n",
       "    </tr>\n",
       "  </thead>\n",
       "  <tbody>\n",
       "    <tr>\n",
       "      <th>MSI Mech Radeon RX 6600 8GB GDDR6 PCI Express 4.0 Video Card RX 6600 MECH 2X 8G</th>\n",
       "      <td>https://www.newegg.com/msi-radeon-rx-6600-mech...</td>\n",
       "      <td>389</td>\n",
       "    </tr>\n",
       "    <tr>\n",
       "      <th>GIGABYTE Eagle OC GeForce RTX 3060 12GB GDDR6 PCI Express 4.0 ATX Video Card GV-N3060EAGLE OC-12GD (rev. 2.0) (LHR)</th>\n",
       "      <td>https://www.newegg.com/gigabyte-geforce-rtx-30...</td>\n",
       "      <td>429</td>\n",
       "    </tr>\n",
       "    <tr>\n",
       "      <th>ASUS TUF Gaming GeForce RTX 3090 24GB GDDR6X PCI Express 4.0 SLI Support Video Card TUF-RTX3090-O24G-GAMING</th>\n",
       "      <td>https://www.newegg.com/asus-geforce-rtx-3090-t...</td>\n",
       "      <td>1249</td>\n",
       "    </tr>\n",
       "    <tr>\n",
       "      <th>ASUS ROG Strix GeForce RTX 3090 24GB GDDR6X PCI Express 4.0 SLI Support Video Card ROG-STRIX-RTX3090-O24G-GAMING</th>\n",
       "      <td>https://www.newegg.com/asus-geforce-rtx-3090-r...</td>\n",
       "      <td>1299</td>\n",
       "    </tr>\n",
       "    <tr>\n",
       "      <th>ZOTAC ArcticStorm GeForce RTX 3090 24GB GDDR6X PCI Express 4.0 SLI Support ATX Video Card ZT-A30900Q-30P</th>\n",
       "      <td>https://www.newegg.com/zotac-geforce-rtx-3090-...</td>\n",
       "      <td>1299</td>\n",
       "    </tr>\n",
       "  </tbody>\n",
       "</table>\n",
       "</div>"
      ],
      "text/plain": [
       "                                                                                                 link  \\\n",
       "product                                                                                                 \n",
       "MSI Mech Radeon RX 6600 8GB GDDR6 PCI Express 4...  https://www.newegg.com/msi-radeon-rx-6600-mech...   \n",
       "GIGABYTE Eagle OC GeForce RTX 3060 12GB GDDR6 P...  https://www.newegg.com/gigabyte-geforce-rtx-30...   \n",
       "ASUS TUF Gaming GeForce RTX 3090 24GB GDDR6X PC...  https://www.newegg.com/asus-geforce-rtx-3090-t...   \n",
       "ASUS ROG Strix GeForce RTX 3090 24GB GDDR6X PCI...  https://www.newegg.com/asus-geforce-rtx-3090-r...   \n",
       "ZOTAC ArcticStorm GeForce RTX 3090 24GB GDDR6X ...  https://www.newegg.com/zotac-geforce-rtx-3090-...   \n",
       "\n",
       "                                                    price  \n",
       "product                                                    \n",
       "MSI Mech Radeon RX 6600 8GB GDDR6 PCI Express 4...    389  \n",
       "GIGABYTE Eagle OC GeForce RTX 3060 12GB GDDR6 P...    429  \n",
       "ASUS TUF Gaming GeForce RTX 3090 24GB GDDR6X PC...   1249  \n",
       "ASUS ROG Strix GeForce RTX 3090 24GB GDDR6X PCI...   1299  \n",
       "ZOTAC ArcticStorm GeForce RTX 3090 24GB GDDR6X ...   1299  "
      ]
     },
     "execution_count": 46,
     "metadata": {},
     "output_type": "execute_result"
    }
   ],
   "source": [
    "check_df = pd.read_csv(str(search)+' product', index_col=0)\n",
    "check_df.head()"
   ]
  },
  {
   "cell_type": "code",
   "execution_count": null,
   "id": "02e676ef",
   "metadata": {},
   "outputs": [],
   "source": []
  }
 ],
 "metadata": {
  "kernelspec": {
   "display_name": "Python 3 (ipykernel)",
   "language": "python",
   "name": "python3"
  },
  "language_info": {
   "codemirror_mode": {
    "name": "ipython",
    "version": 3
   },
   "file_extension": ".py",
   "mimetype": "text/x-python",
   "name": "python",
   "nbconvert_exporter": "python",
   "pygments_lexer": "ipython3",
   "version": "3.9.7"
  }
 },
 "nbformat": 4,
 "nbformat_minor": 5
}
